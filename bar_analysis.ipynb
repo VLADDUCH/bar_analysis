{
 "cells": [
  {
   "cell_type": "code",
   "execution_count": null,
   "id": "db779770-5b89-44b7-aabe-1fd12600ca98",
   "metadata": {},
   "outputs": [],
   "source": [
    "import pandas as pd\n",
    "\n",
    "# Read the data from a CSV file\n",
    "df = pd.read_csv('bar_data.csv')\n",
    "\n",
    "# Calculate the total number of orders for each bartender\n",
    "bartender_orders = df.groupby('bartender')['orders'].sum()\n",
    "\n",
    "# Identify the highest selling bartender\n",
    "highest_bartender = bartender_orders.idxmax()\n",
    "\n",
    "# Calculate the average number of orders made per minute by the highest selling bartender\n",
    "avg_orders_per_minute = df[df['bartender'] == highest_bartender]['orders'].mean() / df[df['bartender'] == highest_bartender]['minutes'].mean()\n",
    "\n",
    "# Calculate the average number of orders made per hour by the highest selling bartender\n",
    "avg_orders_per_hour = avg_orders_per_minute * 60\n",
    "\n",
    "# Calculate the total amount of each type of alcohol used\n",
    "alcohol_used = df.groupby('alcohol')['amount'].sum()\n",
    "\n",
    "# Identify the most popular type of alcohol used\n",
    "most_popular_alcohol = alcohol_used.idxmax()\n",
    "\n",
    "# Calculate the total amount of each type of cordial used\n",
    "cordial_used = df.groupby('cordial')['amount'].sum()\n",
    "\n",
    "# Identify the most popular type of cordial used\n",
    "most_popular_cordial = cordial_used.idxmax()\n",
    "\n",
    "# Calculate the total amount of each type of mixer used\n",
    "mixer_used = df.groupby('mixer')['amount'].sum()\n",
    "\n",
    "# Identify the most popular type of mixer used\n",
    "most_popular_mixer = mixer_used.idxmax()\n",
    "\n",
    "# Print the results\n",
    "print(highest_bartender)\n",
    "print(avg_orders_per_minute)\n",
    "print(avg_orders_per_hour)\n",
    "print(most_popular_alcohol)\n",
    "print(most_popular_cordial)\n",
    "print(most_popular_mixer)\n"
   ]
  }
 ],
 "metadata": {
  "kernelspec": {
   "display_name": "Python 3 (ipykernel)",
   "language": "python",
   "name": "python3"
  },
  "language_info": {
   "codemirror_mode": {
    "name": "ipython",
    "version": 3
   },
   "file_extension": ".py",
   "mimetype": "text/x-python",
   "name": "python",
   "nbconvert_exporter": "python",
   "pygments_lexer": "ipython3",
   "version": "3.8.8"
  }
 },
 "nbformat": 4,
 "nbformat_minor": 5
}
